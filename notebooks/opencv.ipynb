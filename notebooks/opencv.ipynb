{
 "cells": [
  {
   "cell_type": "markdown",
   "metadata": {},
   "source": [
    "Import all necessary libraries for the script. Ill use opencv for the script."
   ]
  },
  {
   "cell_type": "code",
   "execution_count": null,
   "metadata": {},
   "outputs": [],
   "source": []
  },
  {
   "cell_type": "markdown",
   "metadata": {},
   "source": [
    "- Load the image. \n",
    "- Crop the image.\n",
    "- Make it gray scale. (for the real filter papers.)\n",
    "- Get the numpy array of the image.\n",
    "- Search the numpy array for a certain color range in 3 rows each seperated by a distance.\n",
    "- If the color is found in those ranges at those points in the image then display the result."
   ]
  },
  {
   "cell_type": "code",
   "execution_count": null,
   "metadata": {},
   "outputs": [],
   "source": []
  }
 ],
 "metadata": {
  "language_info": {
   "name": "python"
  }
 },
 "nbformat": 4,
 "nbformat_minor": 2
}
